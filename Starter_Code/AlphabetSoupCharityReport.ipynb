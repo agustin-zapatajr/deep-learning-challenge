{
  "nbformat": 4,
  "nbformat_minor": 0,
  "metadata": {
    "colab": {
      "provenance": []
    },
    "kernelspec": {
      "name": "python3",
      "display_name": "Python 3"
    },
    "language_info": {
      "name": "python"
    }
  },
  "cells": [
    {
      "cell_type": "markdown",
      "source": [
        "Overview:"
      ],
      "metadata": {
        "id": "QqUC3z1gPEEv"
      }
    },
    {
      "cell_type": "markdown",
      "source": [
        "The non-profit foundation Alphabet Soup wants to create an algorithm that can predict\n",
        "whether applicants will be successful with received funding. With my knowledge of machine\n",
        "learning and neural networks, I must use dataset features to create a binary classifier\n",
        "that has the capability of predicting whether applicants will be successful if funded by\n",
        "Alphabet Soup. Over the years, more than 34,000 organizations have received funding\n",
        "from Alphabet Soup."
      ],
      "metadata": {
        "id": "MMvpx-b_OTuE"
      }
    },
    {
      "cell_type": "markdown",
      "source": [
        "Results:"
      ],
      "metadata": {
        "id": "jMxvs97LOelB"
      }
    },
    {
      "cell_type": "markdown",
      "source": [
        "Data Preprocessing\n",
        "the dataset is necessary due to it's size, I started by processing the data and removing\n",
        "irrelevant information. After dropping EIN and NAME, the rest of the column names\n",
        "are considered useful features for the model and NAME was later added back into\n",
        "the second test for the purpose of binning."
      ],
      "metadata": {
        "id": "Bn4KBssyOkwM"
      }
    },
    {
      "cell_type": "markdown",
      "source": [],
      "metadata": {
        "id": "YR_b_-VZPzz4"
      }
    },
    {
      "cell_type": "code",
      "execution_count": null,
      "metadata": {
        "colab": {
          "base_uri": "https://localhost:8080/",
          "height": 478
        },
        "id": "Zv2ARPpBQbWV",
        "outputId": "56757a92-98c0-4e65-aac3-b19747e04973"
      },
      "outputs": [
        {
          "output_type": "execute_result",
          "data": {
            "text/plain": [
              "      APPLICATION_TYPE       AFFILIATION CLASSIFICATION      USE_CASE  \\\n",
              "0                  T10       Independent          C1000    ProductDev   \n",
              "1                   T3       Independent          C2000  Preservation   \n",
              "2                   T5  CompanySponsored          C3000    ProductDev   \n",
              "3                   T3  CompanySponsored          C2000  Preservation   \n",
              "4                   T3       Independent          C1000     Heathcare   \n",
              "...                ...               ...            ...           ...   \n",
              "34294               T4       Independent          C1000    ProductDev   \n",
              "34295               T4  CompanySponsored          C3000    ProductDev   \n",
              "34296               T3  CompanySponsored          C2000  Preservation   \n",
              "34297               T5       Independent          C3000    ProductDev   \n",
              "34298               T3       Independent          C1000  Preservation   \n",
              "\n",
              "       ORGANIZATION  STATUS     INCOME_AMT SPECIAL_CONSIDERATIONS   ASK_AMT  \\\n",
              "0       Association       1              0                      N      5000   \n",
              "1      Co-operative       1         1-9999                      N    108590   \n",
              "2       Association       1              0                      N      5000   \n",
              "3             Trust       1    10000-24999                      N      6692   \n",
              "4             Trust       1  100000-499999                      N    142590   \n",
              "...             ...     ...            ...                    ...       ...   \n",
              "34294   Association       1              0                      N      5000   \n",
              "34295   Association       1              0                      N      5000   \n",
              "34296   Association       1              0                      N      5000   \n",
              "34297   Association       1              0                      N      5000   \n",
              "34298  Co-operative       1          1M-5M                      N  36500179   \n",
              "\n",
              "       IS_SUCCESSFUL  \n",
              "0                  1  \n",
              "1                  1  \n",
              "2                  0  \n",
              "3                  1  \n",
              "4                  1  \n",
              "...              ...  \n",
              "34294              0  \n",
              "34295              0  \n",
              "34296              0  \n",
              "34297              1  \n",
              "34298              0  \n",
              "\n",
              "[34299 rows x 10 columns]"
            ],
            "text/html": [
              "\n",
              "  <div id=\"df-b59f0eb5-6aa8-400a-b4a2-cbe89cf7abab\" class=\"colab-df-container\">\n",
              "    <div>\n",
              "<style scoped>\n",
              "    .dataframe tbody tr th:only-of-type {\n",
              "        vertical-align: middle;\n",
              "    }\n",
              "\n",
              "    .dataframe tbody tr th {\n",
              "        vertical-align: top;\n",
              "    }\n",
              "\n",
              "    .dataframe thead th {\n",
              "        text-align: right;\n",
              "    }\n",
              "</style>\n",
              "<table border=\"1\" class=\"dataframe\">\n",
              "  <thead>\n",
              "    <tr style=\"text-align: right;\">\n",
              "      <th></th>\n",
              "      <th>APPLICATION_TYPE</th>\n",
              "      <th>AFFILIATION</th>\n",
              "      <th>CLASSIFICATION</th>\n",
              "      <th>USE_CASE</th>\n",
              "      <th>ORGANIZATION</th>\n",
              "      <th>STATUS</th>\n",
              "      <th>INCOME_AMT</th>\n",
              "      <th>SPECIAL_CONSIDERATIONS</th>\n",
              "      <th>ASK_AMT</th>\n",
              "      <th>IS_SUCCESSFUL</th>\n",
              "    </tr>\n",
              "  </thead>\n",
              "  <tbody>\n",
              "    <tr>\n",
              "      <th>0</th>\n",
              "      <td>T10</td>\n",
              "      <td>Independent</td>\n",
              "      <td>C1000</td>\n",
              "      <td>ProductDev</td>\n",
              "      <td>Association</td>\n",
              "      <td>1</td>\n",
              "      <td>0</td>\n",
              "      <td>N</td>\n",
              "      <td>5000</td>\n",
              "      <td>1</td>\n",
              "    </tr>\n",
              "    <tr>\n",
              "      <th>1</th>\n",
              "      <td>T3</td>\n",
              "      <td>Independent</td>\n",
              "      <td>C2000</td>\n",
              "      <td>Preservation</td>\n",
              "      <td>Co-operative</td>\n",
              "      <td>1</td>\n",
              "      <td>1-9999</td>\n",
              "      <td>N</td>\n",
              "      <td>108590</td>\n",
              "      <td>1</td>\n",
              "    </tr>\n",
              "    <tr>\n",
              "      <th>2</th>\n",
              "      <td>T5</td>\n",
              "      <td>CompanySponsored</td>\n",
              "      <td>C3000</td>\n",
              "      <td>ProductDev</td>\n",
              "      <td>Association</td>\n",
              "      <td>1</td>\n",
              "      <td>0</td>\n",
              "      <td>N</td>\n",
              "      <td>5000</td>\n",
              "      <td>0</td>\n",
              "    </tr>\n",
              "    <tr>\n",
              "      <th>3</th>\n",
              "      <td>T3</td>\n",
              "      <td>CompanySponsored</td>\n",
              "      <td>C2000</td>\n",
              "      <td>Preservation</td>\n",
              "      <td>Trust</td>\n",
              "      <td>1</td>\n",
              "      <td>10000-24999</td>\n",
              "      <td>N</td>\n",
              "      <td>6692</td>\n",
              "      <td>1</td>\n",
              "    </tr>\n",
              "    <tr>\n",
              "      <th>4</th>\n",
              "      <td>T3</td>\n",
              "      <td>Independent</td>\n",
              "      <td>C1000</td>\n",
              "      <td>Heathcare</td>\n",
              "      <td>Trust</td>\n",
              "      <td>1</td>\n",
              "      <td>100000-499999</td>\n",
              "      <td>N</td>\n",
              "      <td>142590</td>\n",
              "      <td>1</td>\n",
              "    </tr>\n",
              "    <tr>\n",
              "      <th>...</th>\n",
              "      <td>...</td>\n",
              "      <td>...</td>\n",
              "      <td>...</td>\n",
              "      <td>...</td>\n",
              "      <td>...</td>\n",
              "      <td>...</td>\n",
              "      <td>...</td>\n",
              "      <td>...</td>\n",
              "      <td>...</td>\n",
              "      <td>...</td>\n",
              "    </tr>\n",
              "    <tr>\n",
              "      <th>34294</th>\n",
              "      <td>T4</td>\n",
              "      <td>Independent</td>\n",
              "      <td>C1000</td>\n",
              "      <td>ProductDev</td>\n",
              "      <td>Association</td>\n",
              "      <td>1</td>\n",
              "      <td>0</td>\n",
              "      <td>N</td>\n",
              "      <td>5000</td>\n",
              "      <td>0</td>\n",
              "    </tr>\n",
              "    <tr>\n",
              "      <th>34295</th>\n",
              "      <td>T4</td>\n",
              "      <td>CompanySponsored</td>\n",
              "      <td>C3000</td>\n",
              "      <td>ProductDev</td>\n",
              "      <td>Association</td>\n",
              "      <td>1</td>\n",
              "      <td>0</td>\n",
              "      <td>N</td>\n",
              "      <td>5000</td>\n",
              "      <td>0</td>\n",
              "    </tr>\n",
              "    <tr>\n",
              "      <th>34296</th>\n",
              "      <td>T3</td>\n",
              "      <td>CompanySponsored</td>\n",
              "      <td>C2000</td>\n",
              "      <td>Preservation</td>\n",
              "      <td>Association</td>\n",
              "      <td>1</td>\n",
              "      <td>0</td>\n",
              "      <td>N</td>\n",
              "      <td>5000</td>\n",
              "      <td>0</td>\n",
              "    </tr>\n",
              "    <tr>\n",
              "      <th>34297</th>\n",
              "      <td>T5</td>\n",
              "      <td>Independent</td>\n",
              "      <td>C3000</td>\n",
              "      <td>ProductDev</td>\n",
              "      <td>Association</td>\n",
              "      <td>1</td>\n",
              "      <td>0</td>\n",
              "      <td>N</td>\n",
              "      <td>5000</td>\n",
              "      <td>1</td>\n",
              "    </tr>\n",
              "    <tr>\n",
              "      <th>34298</th>\n",
              "      <td>T3</td>\n",
              "      <td>Independent</td>\n",
              "      <td>C1000</td>\n",
              "      <td>Preservation</td>\n",
              "      <td>Co-operative</td>\n",
              "      <td>1</td>\n",
              "      <td>1M-5M</td>\n",
              "      <td>N</td>\n",
              "      <td>36500179</td>\n",
              "      <td>0</td>\n",
              "    </tr>\n",
              "  </tbody>\n",
              "</table>\n",
              "<p>34299 rows × 10 columns</p>\n",
              "</div>\n",
              "    <div class=\"colab-df-buttons\">\n",
              "\n",
              "  <div class=\"colab-df-container\">\n",
              "    <button class=\"colab-df-convert\" onclick=\"convertToInteractive('df-b59f0eb5-6aa8-400a-b4a2-cbe89cf7abab')\"\n",
              "            title=\"Convert this dataframe to an interactive table.\"\n",
              "            style=\"display:none;\">\n",
              "\n",
              "  <svg xmlns=\"http://www.w3.org/2000/svg\" height=\"24px\" viewBox=\"0 -960 960 960\">\n",
              "    <path d=\"M120-120v-720h720v720H120Zm60-500h600v-160H180v160Zm220 220h160v-160H400v160Zm0 220h160v-160H400v160ZM180-400h160v-160H180v160Zm440 0h160v-160H620v160ZM180-180h160v-160H180v160Zm440 0h160v-160H620v160Z\"/>\n",
              "  </svg>\n",
              "    </button>\n",
              "\n",
              "  <style>\n",
              "    .colab-df-container {\n",
              "      display:flex;\n",
              "      gap: 12px;\n",
              "    }\n",
              "\n",
              "    .colab-df-convert {\n",
              "      background-color: #E8F0FE;\n",
              "      border: none;\n",
              "      border-radius: 50%;\n",
              "      cursor: pointer;\n",
              "      display: none;\n",
              "      fill: #1967D2;\n",
              "      height: 32px;\n",
              "      padding: 0 0 0 0;\n",
              "      width: 32px;\n",
              "    }\n",
              "\n",
              "    .colab-df-convert:hover {\n",
              "      background-color: #E2EBFA;\n",
              "      box-shadow: 0px 1px 2px rgba(60, 64, 67, 0.3), 0px 1px 3px 1px rgba(60, 64, 67, 0.15);\n",
              "      fill: #174EA6;\n",
              "    }\n",
              "\n",
              "    .colab-df-buttons div {\n",
              "      margin-bottom: 4px;\n",
              "    }\n",
              "\n",
              "    [theme=dark] .colab-df-convert {\n",
              "      background-color: #3B4455;\n",
              "      fill: #D2E3FC;\n",
              "    }\n",
              "\n",
              "    [theme=dark] .colab-df-convert:hover {\n",
              "      background-color: #434B5C;\n",
              "      box-shadow: 0px 1px 3px 1px rgba(0, 0, 0, 0.15);\n",
              "      filter: drop-shadow(0px 1px 2px rgba(0, 0, 0, 0.3));\n",
              "      fill: #FFFFFF;\n",
              "    }\n",
              "  </style>\n",
              "\n",
              "    <script>\n",
              "      const buttonEl =\n",
              "        document.querySelector('#df-b59f0eb5-6aa8-400a-b4a2-cbe89cf7abab button.colab-df-convert');\n",
              "      buttonEl.style.display =\n",
              "        google.colab.kernel.accessAllowed ? 'block' : 'none';\n",
              "\n",
              "      async function convertToInteractive(key) {\n",
              "        const element = document.querySelector('#df-b59f0eb5-6aa8-400a-b4a2-cbe89cf7abab');\n",
              "        const dataTable =\n",
              "          await google.colab.kernel.invokeFunction('convertToInteractive',\n",
              "                                                    [key], {});\n",
              "        if (!dataTable) return;\n",
              "\n",
              "        const docLinkHtml = 'Like what you see? Visit the ' +\n",
              "          '<a target=\"_blank\" href=https://colab.research.google.com/notebooks/data_table.ipynb>data table notebook</a>'\n",
              "          + ' to learn more about interactive tables.';\n",
              "        element.innerHTML = '';\n",
              "        dataTable['output_type'] = 'display_data';\n",
              "        await google.colab.output.renderOutput(dataTable, element);\n",
              "        const docLink = document.createElement('div');\n",
              "        docLink.innerHTML = docLinkHtml;\n",
              "        element.appendChild(docLink);\n",
              "      }\n",
              "    </script>\n",
              "  </div>\n",
              "\n",
              "\n",
              "<div id=\"df-b104d4b1-f605-4a5c-80b7-98907638cbc8\">\n",
              "  <button class=\"colab-df-quickchart\" onclick=\"quickchart('df-b104d4b1-f605-4a5c-80b7-98907638cbc8')\"\n",
              "            title=\"Suggest charts.\"\n",
              "            style=\"display:none;\">\n",
              "\n",
              "<svg xmlns=\"http://www.w3.org/2000/svg\" height=\"24px\"viewBox=\"0 0 24 24\"\n",
              "     width=\"24px\">\n",
              "    <g>\n",
              "        <path d=\"M19 3H5c-1.1 0-2 .9-2 2v14c0 1.1.9 2 2 2h14c1.1 0 2-.9 2-2V5c0-1.1-.9-2-2-2zM9 17H7v-7h2v7zm4 0h-2V7h2v10zm4 0h-2v-4h2v4z\"/>\n",
              "    </g>\n",
              "</svg>\n",
              "  </button>\n",
              "\n",
              "<style>\n",
              "  .colab-df-quickchart {\n",
              "    background-color: #E8F0FE;\n",
              "    border: none;\n",
              "    border-radius: 50%;\n",
              "    cursor: pointer;\n",
              "    display: none;\n",
              "    fill: #1967D2;\n",
              "    height: 32px;\n",
              "    padding: 0 0 0 0;\n",
              "    width: 32px;\n",
              "  }\n",
              "\n",
              "  .colab-df-quickchart:hover {\n",
              "    background-color: #E2EBFA;\n",
              "    box-shadow: 0px 1px 2px rgba(60, 64, 67, 0.3), 0px 1px 3px 1px rgba(60, 64, 67, 0.15);\n",
              "    fill: #174EA6;\n",
              "  }\n",
              "\n",
              "  [theme=dark] .colab-df-quickchart {\n",
              "    background-color: #3B4455;\n",
              "    fill: #D2E3FC;\n",
              "  }\n",
              "\n",
              "  [theme=dark] .colab-df-quickchart:hover {\n",
              "    background-color: #434B5C;\n",
              "    box-shadow: 0px 1px 3px 1px rgba(0, 0, 0, 0.15);\n",
              "    filter: drop-shadow(0px 1px 2px rgba(0, 0, 0, 0.3));\n",
              "    fill: #FFFFFF;\n",
              "  }\n",
              "</style>\n",
              "\n",
              "  <script>\n",
              "    async function quickchart(key) {\n",
              "      const charts = await google.colab.kernel.invokeFunction(\n",
              "          'suggestCharts', [key], {});\n",
              "    }\n",
              "    (() => {\n",
              "      let quickchartButtonEl =\n",
              "        document.querySelector('#df-b104d4b1-f605-4a5c-80b7-98907638cbc8 button');\n",
              "      quickchartButtonEl.style.display =\n",
              "        google.colab.kernel.accessAllowed ? 'block' : 'none';\n",
              "    })();\n",
              "  </script>\n",
              "</div>\n",
              "    </div>\n",
              "  </div>\n"
            ]
          },
          "metadata": {},
          "execution_count": 3
        }
      ],
      "source": [
        "# Drop the non-beneficial ID columns, 'EIN' and 'NAME'.\n",
        "application_df = application_df.drop(columns = ['EIN', 'NAME'])\n",
        "application_df"
      ]
    },
    {
      "cell_type": "markdown",
      "source": [
        "# I then looked at the unique values for each of the columns by using several data\n",
        "points as a cutoff to bin “rare” variables together and value of “Other” for unique\n",
        "values. The data was then split into two categories, training, and testing sets. The\n",
        "target variable for the model is labeled “IS_SUCCESSFUL” which has either a vale\n",
        "of 1 for yes or value of 0 for no"
      ],
      "metadata": {
        "id": "VEbeiERNP_mS"
      }
    },
    {
      "cell_type": "markdown",
      "source": [
        "Categorical variables were then encoded by get_dummies() after checking if the binning\n",
        "was successful."
      ],
      "metadata": {
        "id": "Gglq_Ox2QIc_"
      }
    },
    {
      "cell_type": "code",
      "source": [
        "# Choose a cutoff value and create a list of application types to be replaced\n",
        "# use the variable name `application_types_to_replace`\n",
        "\n",
        "application_types_to_replace = list(atv_counts.iloc[8:].index)\n",
        "cutoff_value = 528\n",
        "\n",
        "# Replace in dataframe\n",
        "for app in application_types_to_replace:\n",
        "    application_df['APPLICATION_TYPE'] = application_df['APPLICATION_TYPE'].replace(app,\"Other\")"
      ],
      "metadata": {
        "id": "yj2TMiC8TUuC"
      },
      "execution_count": null,
      "outputs": []
    },
    {
      "cell_type": "code",
      "source": [
        "# Convert categorical data to numeric with `pd.get_dummies`\n",
        "numeric_dummies = pd.get_dummies(application_df)"
      ],
      "metadata": {
        "id": "01nhneaxTlgR"
      },
      "execution_count": null,
      "outputs": []
    },
    {
      "cell_type": "code",
      "source": [
        "# Split our preprocessed data into our features and target arrays\n",
        "X = numeric_dummies.drop(['IS_SUCCESSFUL'], axis=1)\n",
        "y = numeric_dummies['IS_SUCCESSFUL']\n",
        "\n",
        "# Split the preprocessed data into a training and testing dataset\n",
        "X_train, X_test, y_train, y_test = train_test_split(X, y, random_state=58)"
      ],
      "metadata": {
        "id": "5SLOzifHVrz0"
      },
      "execution_count": null,
      "outputs": []
    },
    {
      "cell_type": "code",
      "source": [
        "# Create a StandardScaler instances\n",
        "scaler = StandardScaler()\n",
        "\n",
        "# Fit the StandardScaler\n",
        "X_scaler = scaler.fit(X_train)\n",
        "\n",
        "# Scale the data\n",
        "X_train_scaled = X_scaler.transform(X_train)\n",
        "X_test_scaled = X_scaler.transform(X_test)"
      ],
      "metadata": {
        "id": "3ID2HdamVzaJ"
      },
      "execution_count": null,
      "outputs": []
    },
    {
      "cell_type": "markdown",
      "source": [
        "Compiling, Training, and Evaluating the Model\n",
        "\n",
        "There was a total of three layers for each model after applying the Neural Networks. The\n",
        "number of hidden nodes were then determined by the number of input features which\n",
        "was two."
      ],
      "metadata": {
        "id": "KDPM3wvESb5s"
      }
    },
    {
      "cell_type": "markdown",
      "source": [
        "![Model 1 for Charity.png](data:image/png;base64,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)"
      ],
      "metadata": {
        "id": "66eclJyMWh8E"
      }
    },
    {
      "cell_type": "markdown",
      "source": [
        "With my optimization model, I was able to achieve target performance with four\n",
        "layers and four hidden layers.\n"
      ],
      "metadata": {
        "id": "SmAyymwnXl5y"
      }
    },
    {
      "cell_type": "markdown",
      "source": [
        "![Model Optimization for Charity.png](data:image/png;base64,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)"
      ],
      "metadata": {
        "id": "kro44_o1XpHh"
      }
    },
    {
      "cell_type": "markdown",
      "source": [
        "Summary:"
      ],
      "metadata": {
        "id": "w45AXFGfYaYO"
      }
    },
    {
      "cell_type": "markdown",
      "source": [
        "My first deep learning model that I developed was unable to achieve the\n",
        "accuracy higher than 73%. With the optimization model I was able to achieve\n",
        "accuracy higher then 75%. My recommendation to solve the\n",
        "classification problem would be to try a different type of algorithm testing. I would use the Random Forest Classifier because it can help by identifying the key\n",
        "predictor columns, allowing us to potentially improve the accuracy.\n",
        "Another method I would recommend is adding more dataset columns that are useful and\n",
        "even going back to general basics of simple pandas for identifying more important\n",
        "key features. As a Data Analyst, it is important to experiment with as\n",
        "many steps as possible to fine tune the data as much as necessary to increase a\n",
        "model’s overall performance."
      ],
      "metadata": {
        "id": "SRYoSX0hYnU1"
      }
    }
  ]
}